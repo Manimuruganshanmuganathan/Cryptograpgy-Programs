{
  "nbformat": 4,
  "nbformat_minor": 0,
  "metadata": {
    "colab": {
      "provenance": [],
      "authorship_tag": "ABX9TyOQ+sMKgu7xznXS+tU3HM0y",
      "include_colab_link": true
    },
    "kernelspec": {
      "name": "python3",
      "display_name": "Python 3"
    },
    "language_info": {
      "name": "python"
    }
  },
  "cells": [
    {
      "cell_type": "markdown",
      "metadata": {
        "id": "view-in-github",
        "colab_type": "text"
      },
      "source": [
        "<a href=\"https://colab.research.google.com/github/Manimuruganshanmuganathan/Cryptograpgy-Programs/blob/main/Untitled0.ipynb\" target=\"_parent\"><img src=\"https://colab.research.google.com/assets/colab-badge.svg\" alt=\"Open In Colab\"/></a>"
      ]
    },
    {
      "cell_type": "code",
      "source": [
        "alphabets=\"abcdefghijklmnopqrstuvwxyz\"\n",
        "message=input(\"Enter the message to encrypt: \")\n",
        "encrypt,decrypt=\"\",\"\"\n",
        "key=5\n",
        "\n",
        "for letter in message:\n",
        "    new_position=(alphabets.find(letter)+key)%len(alphabets)\n",
        "    encrypt+=alphabets[new_position]\n",
        "\n",
        "\n",
        "for letter in encrypt:\n",
        "    new_position=(alphabets.find(letter)-key)%len(alphabets)\n",
        "    decrypt+=alphabets[new_position]\n",
        "\n",
        "\n",
        "print(\"Encrypted message:\",encrypt)\n",
        "print(\"Decrypted message:\",decrypt)\n"
      ],
      "metadata": {
        "colab": {
          "base_uri": "https://localhost:8080/"
        },
        "id": "zoh_TF_OdE94",
        "outputId": "74d89ed4-89c9-415f-80c5-9945958ed0e6"
      },
      "execution_count": null,
      "outputs": [
        {
          "output_type": "stream",
          "name": "stdout",
          "text": [
            "Enter the message to encrypt: csc\n",
            "Encrypted message: hxh\n",
            "Decrypted message: csc\n"
          ]
        }
      ]
    }
  ]
}